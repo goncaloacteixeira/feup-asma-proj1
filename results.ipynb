{
 "cells": [
  {
   "cell_type": "markdown",
   "id": "552db61e",
   "metadata": {
    "pycharm": {
     "name": "#%% md\n"
    }
   },
   "source": [
    "# Results Analysis"
   ]
  },
  {
   "cell_type": "code",
   "execution_count": 2,
   "id": "e4ba3147",
   "metadata": {
    "pycharm": {
     "name": "#%%\n"
    }
   },
   "outputs": [],
   "source": [
    "from os import walk\n",
    "import pandas as pd\n",
    "import numpy as np\n",
    "import matplotlib.pyplot as plt\n",
    "import seaborn as sns"
   ]
  },
  {
   "cell_type": "code",
   "execution_count": 27,
   "outputs": [
    {
     "data": {
      "text/plain": "      name                                        path original_cost  \\\n0   Human1  [sem4, sta2, sta1, sta3, sta4, sta6, sta5]          32.5   \n8   Human8        [sem4, sta2, sta1, sta3, sta4, sta6]          30.5   \n9   Human9        [pnt1, sta1, sta3, sta4, sta6, sta5]          18.0   \n0   Human1        [sem1, sem3, sta4, sta6, sta5, sem5]          94.0   \n1   Human2  [sem5, sta5, sta6, sta4, sta3, sta1, pnt1]          63.0   \n..     ...                                         ...           ...   \n0   Human1              [sta5, sta6, sem7, sem8, sem9]          69.5   \n1   Human2                          [sta4, sem3, sem1]          45.0   \n2   Human3              [sta4, sta3, sta1, sta2, sem4]          28.5   \n3   Human4  [sem1, sem3, sta4, sta6, sem7, sem8, sem9]         114.5   \n4   Human5                          [sta6, sta4, sta3]           4.0   \n\n   final_cost shared_segments  \\\n0   27.065428              []   \n8   43.314615              []   \n9        18.0              []   \n0     85.5354              []   \n1   38.223721              []   \n..        ...             ...   \n0   41.055804              []   \n1   31.816727              []   \n2   21.999249              []   \n3   82.111529              []   \n4         4.0              []   \n\n                                    car_service_fares num_shared_segments  \\\n0   [Path: [sem4, sta2], Fare: 7,07, Expected: 22,50]                   0   \n8   [Path: [sem4, sta2], Fare: 25,31, Expected: 22...                   0   \n9                                                  []                   0   \n0   [Path: [sem1, sem3, sta4], Fare: 31,54, Expect...                   0   \n1   [Path: [sem5, sta5], Fare: 0,22, Expected: 45,00]                   0   \n..                                                ...                 ...   \n0   [Path: [sta6, sem7, sem8, sem9], Fare: 9,06, E...                   0   \n1   [Path: [sta4, sem3, sem1], Fare: 11,82, Expect...                   0   \n2   [Path: [sta2, sem4], Fare: 6,00, Expected: 22,50]                   0   \n3   [Path: [sem1, sem3, sta4], Fare: 19,34, Expect...                   0   \n4                                                  []                   0   \n\n   num_car_service_fares  \n0                      1  \n8                      1  \n9                      0  \n0                      2  \n1                      1  \n..                   ...  \n0                      1  \n1                      1  \n2                      1  \n3                      2  \n4                      0  \n\n[64 rows x 8 columns]",
      "text/html": "<div>\n<style scoped>\n    .dataframe tbody tr th:only-of-type {\n        vertical-align: middle;\n    }\n\n    .dataframe tbody tr th {\n        vertical-align: top;\n    }\n\n    .dataframe thead th {\n        text-align: right;\n    }\n</style>\n<table border=\"1\" class=\"dataframe\">\n  <thead>\n    <tr style=\"text-align: right;\">\n      <th></th>\n      <th>name</th>\n      <th>path</th>\n      <th>original_cost</th>\n      <th>final_cost</th>\n      <th>shared_segments</th>\n      <th>car_service_fares</th>\n      <th>num_shared_segments</th>\n      <th>num_car_service_fares</th>\n    </tr>\n  </thead>\n  <tbody>\n    <tr>\n      <th>0</th>\n      <td>Human1</td>\n      <td>[sem4, sta2, sta1, sta3, sta4, sta6, sta5]</td>\n      <td>32.5</td>\n      <td>27.065428</td>\n      <td>[]</td>\n      <td>[Path: [sem4, sta2], Fare: 7,07, Expected: 22,50]</td>\n      <td>0</td>\n      <td>1</td>\n    </tr>\n    <tr>\n      <th>8</th>\n      <td>Human8</td>\n      <td>[sem4, sta2, sta1, sta3, sta4, sta6]</td>\n      <td>30.5</td>\n      <td>43.314615</td>\n      <td>[]</td>\n      <td>[Path: [sem4, sta2], Fare: 25,31, Expected: 22...</td>\n      <td>0</td>\n      <td>1</td>\n    </tr>\n    <tr>\n      <th>9</th>\n      <td>Human9</td>\n      <td>[pnt1, sta1, sta3, sta4, sta6, sta5]</td>\n      <td>18.0</td>\n      <td>18.0</td>\n      <td>[]</td>\n      <td>[]</td>\n      <td>0</td>\n      <td>0</td>\n    </tr>\n    <tr>\n      <th>0</th>\n      <td>Human1</td>\n      <td>[sem1, sem3, sta4, sta6, sta5, sem5]</td>\n      <td>94.0</td>\n      <td>85.5354</td>\n      <td>[]</td>\n      <td>[Path: [sem1, sem3, sta4], Fare: 31,54, Expect...</td>\n      <td>0</td>\n      <td>2</td>\n    </tr>\n    <tr>\n      <th>1</th>\n      <td>Human2</td>\n      <td>[sem5, sta5, sta6, sta4, sta3, sta1, pnt1]</td>\n      <td>63.0</td>\n      <td>38.223721</td>\n      <td>[]</td>\n      <td>[Path: [sem5, sta5], Fare: 0,22, Expected: 45,00]</td>\n      <td>0</td>\n      <td>1</td>\n    </tr>\n    <tr>\n      <th>...</th>\n      <td>...</td>\n      <td>...</td>\n      <td>...</td>\n      <td>...</td>\n      <td>...</td>\n      <td>...</td>\n      <td>...</td>\n      <td>...</td>\n    </tr>\n    <tr>\n      <th>0</th>\n      <td>Human1</td>\n      <td>[sta5, sta6, sem7, sem8, sem9]</td>\n      <td>69.5</td>\n      <td>41.055804</td>\n      <td>[]</td>\n      <td>[Path: [sta6, sem7, sem8, sem9], Fare: 9,06, E...</td>\n      <td>0</td>\n      <td>1</td>\n    </tr>\n    <tr>\n      <th>1</th>\n      <td>Human2</td>\n      <td>[sta4, sem3, sem1]</td>\n      <td>45.0</td>\n      <td>31.816727</td>\n      <td>[]</td>\n      <td>[Path: [sta4, sem3, sem1], Fare: 11,82, Expect...</td>\n      <td>0</td>\n      <td>1</td>\n    </tr>\n    <tr>\n      <th>2</th>\n      <td>Human3</td>\n      <td>[sta4, sta3, sta1, sta2, sem4]</td>\n      <td>28.5</td>\n      <td>21.999249</td>\n      <td>[]</td>\n      <td>[Path: [sta2, sem4], Fare: 6,00, Expected: 22,50]</td>\n      <td>0</td>\n      <td>1</td>\n    </tr>\n    <tr>\n      <th>3</th>\n      <td>Human4</td>\n      <td>[sem1, sem3, sta4, sta6, sem7, sem8, sem9]</td>\n      <td>114.5</td>\n      <td>82.111529</td>\n      <td>[]</td>\n      <td>[Path: [sem1, sem3, sta4], Fare: 19,34, Expect...</td>\n      <td>0</td>\n      <td>2</td>\n    </tr>\n    <tr>\n      <th>4</th>\n      <td>Human5</td>\n      <td>[sta6, sta4, sta3]</td>\n      <td>4.0</td>\n      <td>4.0</td>\n      <td>[]</td>\n      <td>[]</td>\n      <td>0</td>\n      <td>0</td>\n    </tr>\n  </tbody>\n</table>\n<p>64 rows × 8 columns</p>\n</div>"
     },
     "execution_count": 27,
     "metadata": {},
     "output_type": "execute_result"
    }
   ],
   "source": [
    "filenames = next(walk(\"results\"), (None, None, []))[2]  # [] if no file\n",
    "\n",
    "signs = []\n",
    "\n",
    "df = pd.DataFrame([], columns=[\"name\", \"path\", \"original_cost\", \"final_cost\", \"shared_segments\", \"car_service_fares\", \"num_shared_segments\", \"num_car_service_fares\"])\n",
    "\n",
    "for file in filenames:\n",
    "    df = pd.concat([df, pd.read_csv(\"results/\" + file)], axis=0, join=\"inner\")\n",
    "\n",
    "df = df[df[\"final_cost\"] != 0.0]\n",
    "\n",
    "df"
   ],
   "metadata": {
    "collapsed": false,
    "pycharm": {
     "name": "#%%\n"
    }
   }
  },
  {
   "cell_type": "code",
   "execution_count": 17,
   "outputs": [],
   "source": [],
   "metadata": {
    "collapsed": false,
    "pycharm": {
     "name": "#%%\n"
    }
   }
  },
  {
   "cell_type": "code",
   "execution_count": null,
   "outputs": [],
   "source": [],
   "metadata": {
    "collapsed": false,
    "pycharm": {
     "name": "#%%\n"
    }
   }
  }
 ],
 "metadata": {
  "kernelspec": {
   "display_name": "Python 3 (ipykernel)",
   "language": "python",
   "name": "python3"
  },
  "language_info": {
   "codemirror_mode": {
    "name": "ipython",
    "version": 3
   },
   "file_extension": ".py",
   "mimetype": "text/x-python",
   "name": "python",
   "nbconvert_exporter": "python",
   "pygments_lexer": "ipython3",
   "version": "3.8.12"
  }
 },
 "nbformat": 4,
 "nbformat_minor": 5
}