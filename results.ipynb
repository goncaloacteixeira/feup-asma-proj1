{
 "cells": [
  {
   "cell_type": "markdown",
   "id": "552db61e",
   "metadata": {
    "pycharm": {
     "name": "#%% md\n"
    }
   },
   "source": [
    "# Results Analysis"
   ]
  },
  {
   "cell_type": "code",
   "execution_count": 1,
   "id": "e4ba3147",
   "metadata": {
    "pycharm": {
     "name": "#%%\n"
    }
   },
   "outputs": [],
   "source": [
    "import pandas as pd"
   ]
  },
  {
   "cell_type": "markdown",
   "source": [
    "## Experiment 1\n",
    "- 50 Humans\n",
    "- 20 Cars\n",
    "- 20% chance of having at least 1-5 other humans wanting to share a ride segment"
   ],
   "metadata": {
    "collapsed": false,
    "pycharm": {
     "name": "#%% md\n"
    }
   }
  },
  {
   "cell_type": "code",
   "execution_count": 2,
   "outputs": [],
   "source": [
    "df = pd.read_csv('results/results-20c-50h.csv')\n",
    "df.describe()"
   ],
   "metadata": {
    "collapsed": false,
    "pycharm": {
     "name": "#%%\n"
    }
   }
  },
  {
   "cell_type": "markdown",
   "source": [
    "We can see from the description that since we are short on cars the mean final cost is higher than the expected original cost (high demand, low supply)"
   ],
   "metadata": {
    "collapsed": false,
    "pycharm": {
     "name": "#%% md\n"
    }
   }
  },
  {
   "cell_type": "markdown",
   "source": [
    "## Experiment 2\n",
    "\n",
    "- 5 Humans\n",
    "- 10 Cars\n",
    "- 20% chance of having at least 1-5 other humans wanting to share a ride segment"
   ],
   "metadata": {
    "collapsed": false,
    "pycharm": {
     "name": "#%% md\n"
    }
   }
  },
  {
   "cell_type": "code",
   "execution_count": 6,
   "outputs": [
    {
     "data": {
      "text/plain": "       original_cost  final_cost  num_shared_segments  num_car_service_fares\ncount       9.000000    9.000000             9.000000               9.000000\nmean       40.777778   34.990304             0.222222               0.666667\nstd        32.829209   27.482827             0.440959               0.707107\nmin         2.000000    2.000000             0.000000               0.000000\n25%         2.000000    2.000000             0.000000               0.000000\n50%        53.000000   46.712780             0.000000               1.000000\n75%        53.000000   53.403767             0.000000               1.000000\nmax        94.000000   74.610605             1.000000               2.000000",
      "text/html": "<div>\n<style scoped>\n    .dataframe tbody tr th:only-of-type {\n        vertical-align: middle;\n    }\n\n    .dataframe tbody tr th {\n        vertical-align: top;\n    }\n\n    .dataframe thead th {\n        text-align: right;\n    }\n</style>\n<table border=\"1\" class=\"dataframe\">\n  <thead>\n    <tr style=\"text-align: right;\">\n      <th></th>\n      <th>original_cost</th>\n      <th>final_cost</th>\n      <th>num_shared_segments</th>\n      <th>num_car_service_fares</th>\n    </tr>\n  </thead>\n  <tbody>\n    <tr>\n      <th>count</th>\n      <td>9.000000</td>\n      <td>9.000000</td>\n      <td>9.000000</td>\n      <td>9.000000</td>\n    </tr>\n    <tr>\n      <th>mean</th>\n      <td>40.777778</td>\n      <td>34.990304</td>\n      <td>0.222222</td>\n      <td>0.666667</td>\n    </tr>\n    <tr>\n      <th>std</th>\n      <td>32.829209</td>\n      <td>27.482827</td>\n      <td>0.440959</td>\n      <td>0.707107</td>\n    </tr>\n    <tr>\n      <th>min</th>\n      <td>2.000000</td>\n      <td>2.000000</td>\n      <td>0.000000</td>\n      <td>0.000000</td>\n    </tr>\n    <tr>\n      <th>25%</th>\n      <td>2.000000</td>\n      <td>2.000000</td>\n      <td>0.000000</td>\n      <td>0.000000</td>\n    </tr>\n    <tr>\n      <th>50%</th>\n      <td>53.000000</td>\n      <td>46.712780</td>\n      <td>0.000000</td>\n      <td>1.000000</td>\n    </tr>\n    <tr>\n      <th>75%</th>\n      <td>53.000000</td>\n      <td>53.403767</td>\n      <td>0.000000</td>\n      <td>1.000000</td>\n    </tr>\n    <tr>\n      <th>max</th>\n      <td>94.000000</td>\n      <td>74.610605</td>\n      <td>1.000000</td>\n      <td>2.000000</td>\n    </tr>\n  </tbody>\n</table>\n</div>"
     },
     "execution_count": 6,
     "metadata": {},
     "output_type": "execute_result"
    }
   ],
   "source": [
    "df = pd.read_csv('results/results-5h-10c.csv')\n",
    "df.describe()"
   ],
   "metadata": {
    "collapsed": false,
    "pycharm": {
     "name": "#%%\n"
    }
   }
  },
  {
   "cell_type": "markdown",
   "source": [
    "We can now observe that since there is a proportion of 2 to 1 for cars to humans, the mean final cost is lower than the original cost, since the cars are on a auction for the best price"
   ],
   "metadata": {
    "collapsed": false,
    "pycharm": {
     "name": "#%% md\n"
    }
   }
  },
  {
   "cell_type": "markdown",
   "source": [
    "## Experiment 3\n",
    "\n",
    "- 10 Humans\n",
    "- 50 Cars\n",
    "- 20% chance of having at least 1-5 other humans wanting to share a ride segment\n"
   ],
   "metadata": {
    "collapsed": false,
    "pycharm": {
     "name": "#%% md\n"
    }
   }
  },
  {
   "cell_type": "code",
   "execution_count": 7,
   "outputs": [
    {
     "data": {
      "text/plain": "       original_cost  final_cost  num_shared_segments  num_car_service_fares\ncount      11.000000   11.000000            11.000000              11.000000\nmean       45.227273   42.903812             0.181818               0.727273\nstd        28.987380   39.905177             0.404520               0.786245\nmin         4.000000    4.000000             0.000000               0.000000\n25%        13.000000   13.000000             0.000000               0.000000\n50%        55.000000   32.162842             0.000000               1.000000\n75%        69.500000   56.883793             0.000000               1.000000\nmax        75.500000  137.782078             1.000000               2.000000",
      "text/html": "<div>\n<style scoped>\n    .dataframe tbody tr th:only-of-type {\n        vertical-align: middle;\n    }\n\n    .dataframe tbody tr th {\n        vertical-align: top;\n    }\n\n    .dataframe thead th {\n        text-align: right;\n    }\n</style>\n<table border=\"1\" class=\"dataframe\">\n  <thead>\n    <tr style=\"text-align: right;\">\n      <th></th>\n      <th>original_cost</th>\n      <th>final_cost</th>\n      <th>num_shared_segments</th>\n      <th>num_car_service_fares</th>\n    </tr>\n  </thead>\n  <tbody>\n    <tr>\n      <th>count</th>\n      <td>11.000000</td>\n      <td>11.000000</td>\n      <td>11.000000</td>\n      <td>11.000000</td>\n    </tr>\n    <tr>\n      <th>mean</th>\n      <td>45.227273</td>\n      <td>42.903812</td>\n      <td>0.181818</td>\n      <td>0.727273</td>\n    </tr>\n    <tr>\n      <th>std</th>\n      <td>28.987380</td>\n      <td>39.905177</td>\n      <td>0.404520</td>\n      <td>0.786245</td>\n    </tr>\n    <tr>\n      <th>min</th>\n      <td>4.000000</td>\n      <td>4.000000</td>\n      <td>0.000000</td>\n      <td>0.000000</td>\n    </tr>\n    <tr>\n      <th>25%</th>\n      <td>13.000000</td>\n      <td>13.000000</td>\n      <td>0.000000</td>\n      <td>0.000000</td>\n    </tr>\n    <tr>\n      <th>50%</th>\n      <td>55.000000</td>\n      <td>32.162842</td>\n      <td>0.000000</td>\n      <td>1.000000</td>\n    </tr>\n    <tr>\n      <th>75%</th>\n      <td>69.500000</td>\n      <td>56.883793</td>\n      <td>0.000000</td>\n      <td>1.000000</td>\n    </tr>\n    <tr>\n      <th>max</th>\n      <td>75.500000</td>\n      <td>137.782078</td>\n      <td>1.000000</td>\n      <td>2.000000</td>\n    </tr>\n  </tbody>\n</table>\n</div>"
     },
     "execution_count": 7,
     "metadata": {},
     "output_type": "execute_result"
    }
   ],
   "source": [
    "df = pd.read_csv('results/results-10h-50c.csv')\n",
    "df.describe()"
   ],
   "metadata": {
    "collapsed": false,
    "pycharm": {
     "name": "#%%\n"
    }
   }
  },
  {
   "cell_type": "markdown",
   "source": [
    "As we can see, usually, when there are more cars than humans, the prices tend to minimize, since they are competing between each other to offer the best price"
   ],
   "metadata": {
    "collapsed": false,
    "pycharm": {
     "name": "#%% md\n"
    }
   }
  },
  {
   "cell_type": "markdown",
   "source": [
    "## Experiment 4\n",
    "\n",
    "- 5 Humans\n",
    "- 1 Cars\n",
    "- 20% chance of having at least 1-5 other humans wanting to share a ride segment\n",
    "- At least 6 points on path"
   ],
   "metadata": {
    "collapsed": false,
    "pycharm": {
     "name": "#%% md\n"
    }
   }
  },
  {
   "cell_type": "code",
   "execution_count": 8,
   "outputs": [
    {
     "data": {
      "text/plain": "       original_cost  final_cost  num_shared_segments  num_car_service_fares\ncount      13.000000   13.000000            13.000000              13.000000\nmean       34.653846   55.600895             0.153846               0.692308\nstd        23.065473   55.715375             0.375534               0.751068\nmin        18.000000   18.000000             0.000000               0.000000\n25%        18.000000   18.000000             0.000000               0.000000\n50%        32.500000   31.617491             0.000000               1.000000\n75%        32.500000   62.272987             0.000000               1.000000\nmax        92.000000  181.845390             1.000000               2.000000",
      "text/html": "<div>\n<style scoped>\n    .dataframe tbody tr th:only-of-type {\n        vertical-align: middle;\n    }\n\n    .dataframe tbody tr th {\n        vertical-align: top;\n    }\n\n    .dataframe thead th {\n        text-align: right;\n    }\n</style>\n<table border=\"1\" class=\"dataframe\">\n  <thead>\n    <tr style=\"text-align: right;\">\n      <th></th>\n      <th>original_cost</th>\n      <th>final_cost</th>\n      <th>num_shared_segments</th>\n      <th>num_car_service_fares</th>\n    </tr>\n  </thead>\n  <tbody>\n    <tr>\n      <th>count</th>\n      <td>13.000000</td>\n      <td>13.000000</td>\n      <td>13.000000</td>\n      <td>13.000000</td>\n    </tr>\n    <tr>\n      <th>mean</th>\n      <td>34.653846</td>\n      <td>55.600895</td>\n      <td>0.153846</td>\n      <td>0.692308</td>\n    </tr>\n    <tr>\n      <th>std</th>\n      <td>23.065473</td>\n      <td>55.715375</td>\n      <td>0.375534</td>\n      <td>0.751068</td>\n    </tr>\n    <tr>\n      <th>min</th>\n      <td>18.000000</td>\n      <td>18.000000</td>\n      <td>0.000000</td>\n      <td>0.000000</td>\n    </tr>\n    <tr>\n      <th>25%</th>\n      <td>18.000000</td>\n      <td>18.000000</td>\n      <td>0.000000</td>\n      <td>0.000000</td>\n    </tr>\n    <tr>\n      <th>50%</th>\n      <td>32.500000</td>\n      <td>31.617491</td>\n      <td>0.000000</td>\n      <td>1.000000</td>\n    </tr>\n    <tr>\n      <th>75%</th>\n      <td>32.500000</td>\n      <td>62.272987</td>\n      <td>0.000000</td>\n      <td>1.000000</td>\n    </tr>\n    <tr>\n      <th>max</th>\n      <td>92.000000</td>\n      <td>181.845390</td>\n      <td>1.000000</td>\n      <td>2.000000</td>\n    </tr>\n  </tbody>\n</table>\n</div>"
     },
     "execution_count": 8,
     "metadata": {},
     "output_type": "execute_result"
    }
   ],
   "source": [
    "df = pd.read_csv('results/results-5h-1c.csv')\n",
    "df.describe()"
   ],
   "metadata": {
    "collapsed": false,
    "pycharm": {
     "name": "#%%\n"
    }
   }
  }
 ],
 "metadata": {
  "kernelspec": {
   "display_name": "Python 3 (ipykernel)",
   "language": "python",
   "name": "python3"
  },
  "language_info": {
   "codemirror_mode": {
    "name": "ipython",
    "version": 3
   },
   "file_extension": ".py",
   "mimetype": "text/x-python",
   "name": "python",
   "nbconvert_exporter": "python",
   "pygments_lexer": "ipython3",
   "version": "3.8.12"
  }
 },
 "nbformat": 4,
 "nbformat_minor": 5
}